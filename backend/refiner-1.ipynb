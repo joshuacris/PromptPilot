{
 "cells": [
  {
   "cell_type": "code",
   "execution_count": 1,
   "metadata": {},
   "outputs": [],
   "source": [
    "import cohere\n",
    "import os\n",
    "from dotenv import load_dotenv"
   ]
  },
  {
   "cell_type": "code",
   "execution_count": 2,
   "metadata": {},
   "outputs": [
    {
     "data": {
      "text/plain": [
       "True"
      ]
     },
     "execution_count": 2,
     "metadata": {},
     "output_type": "execute_result"
    }
   ],
   "source": [
    "load_dotenv()"
   ]
  },
  {
   "cell_type": "code",
   "execution_count": 3,
   "metadata": {},
   "outputs": [],
   "source": [
    "CO_API_KEY = os.environ.get(\"CO_API_KEY\")\n",
    "co = cohere.ClientV2(CO_API_KEY)"
   ]
  },
  {
   "cell_type": "code",
   "execution_count": 9,
   "metadata": {},
   "outputs": [],
   "source": [
    "PROMPT_RUBRIK = '''\n",
    "\n",
    "Given a prompt, can you please improve it so that it follows the Prompt Rubric:\n",
    "\n",
    "1. First, break the prompt into sequential steps: Eg. First [do something], then [do something]. Finally, [do something].\n",
    "\n",
    "2. Then, provide necessary context or background information. Eg. Report card. Which report card? For elementary students in Brazil?\n",
    "\n",
    "3. Afterwards, assign a role to the AI model. Eg. Imagine you are a teacher and I am a student. Please explain Newton’s Law.\n",
    "\n",
    "4. After this, specify the tone (Please use constructive tone, related to roles: whose perspective\n",
    "should the response be written from and who is the audience.). If possible, use action words to be more specific.\n",
    "\n",
    "5. If there are no examples, add an example when applicable.\n",
    "\n",
    "6. Explicitly say format of the response expected (bullet points, tables, code, etc).\n",
    "\n",
    "7. Include this at the end of the prompt: “Please do not assume anything, ask me any\n",
    "clarification questions if need be.\n",
    "\n",
    "8. If there is code included, label the prompt at the top and include ALL the code below the prompt.\n",
    "\n",
    "9. Finally, please do not apply it to this prompt. Memorize the Prompt Rubric for future prompts.\n",
    "'''\n",
    "PROMPT_ADDON = '''\n",
    "\\n Improve this prompt using the Prompt Rubric and Context Rubric, with the response being a string of the new prompt only. \n",
    "\n",
    "If there is code included, put the prompt at the top and include ALL the code below the prompt.\n",
    "\n",
    "Do not include **Improved Prompt**\n",
    "'''"
   ]
  },
  {
   "cell_type": "code",
   "execution_count": 29,
   "metadata": {},
   "outputs": [],
   "source": [
    "def engineer_context(prompt_type: str) -> str:\n",
    "    if prompt_type == 'EDUCATIONAL':\n",
    "        return '''You are to memorize the following Context Rubric for future prompts only.\n",
    "        Context Rubric:\n",
    "        1. If the prompt asks for a direct answer, implement guide rails in the prompt to prevent a direct answer.\n",
    "        2. Ensure the prompt will activate chain-of-thought prompting when obtaining a response.'''\n",
    "    elif prompt_type == 'PROBLEM-SOLVING':\n",
    "        return '''You are to memorize the following Context Rubric for future prompts only.\n",
    "        Context Rubric:\n",
    "        1. If the prompt asks for a direct answer or multiple choice, use zero-shot prompting in the prompt\n",
    "        2. If the prompt asks to solve a complicated problem, use meta prompting in the prompt\n",
    "        3. If the prompt '''\n",
    "    else: # prompt_type == EVERYDAY\n",
    "        return '''You are to memorize the following Context Rubric for future prompts only.\n",
    "        Context Rubric:\n",
    "        1. Ensure the prompt will activate few-shot prompting when obtaining a response\n",
    "        2. Make the prompt elicit a concise response without overcomplicating it.'''"
   ]
  },
  {
   "cell_type": "code",
   "execution_count": 36,
   "metadata": {},
   "outputs": [],
   "source": [
    "PROMPT_TYPE = engineer_context('PROBLEM-SOLVING')\n",
    "user_prompt = '''how do i implement linked list cycle detection in c'''\n",
    "USER_PROMPT_FINAL = user_prompt + PROMPT_ADDON"
   ]
  },
  {
   "cell_type": "code",
   "execution_count": 37,
   "metadata": {},
   "outputs": [
    {
     "name": "stdout",
     "output_type": "stream",
     "text": [
      "begin next\n",
      "\n",
      "Understood! I’ll memorize the **Prompt Rubric** for future prompts and ensure they are structured as follows:\n",
      "\n",
      "1. **Break the prompt into sequential steps.**  \n",
      "2. **Provide necessary context or background information.**  \n",
      "3. **Assign a role to the AI model.**  \n",
      "4. **Specify the tone.**  \n",
      "5. **Add an example when applicable.**  \n",
      "6. **Explicitly state the expected format of the response.**  \n",
      "7. **Include the phrase: “Please do not assume anything, ask me any clarification questions if need be.”**  \n",
      "8. **Label and include all code if applicable.**  \n",
      "\n",
      "I’ll apply this rubric to future prompts as requested. Let me know when you’re ready to proceed with a new prompt!\n",
      "begin next\n",
      "\n",
      "Understood! I will apply the **Context Rubric** to future prompts as follows:\n",
      "\n",
      "1. **If the prompt asks for a direct answer or multiple choice**, I will use **zero-shot prompting** in the response.  \n",
      "2. **If the prompt asks to solve a complicated problem**, I will use **meta prompting** in the response.  \n",
      "\n",
      "I’ll ensure to adhere to this rubric for all subsequent interactions. Let me know if you have any further instructions or prompts!\n",
      "begin next\n",
      "\n",
      "\"Write a C program to detect a cycle in a linked list using Floyd's Tortoise and Hare algorithm. Include comments explaining each step of the implementation. Provide the complete code with a main function to test the cycle detection logic.\"\n",
      "\n",
      "```c\n",
      "#include <stdio.h>\n",
      "#include <stdlib.h>\n",
      "\n",
      "// Node structure for the linked list\n",
      "typedef struct Node {\n",
      "    int data;\n",
      "    struct Node* next;\n",
      "} Node;\n",
      "\n",
      "// Function to create a new node\n",
      "Node* createNode(int data) {\n",
      "    Node* newNode = (Node*)malloc(sizeof(Node));\n",
      "    if (!newNode) {\n",
      "        printf(\"Memory error\\n\");\n",
      "        exit(1);\n",
      "    }\n",
      "    newNode->data = data;\n",
      "    newNode->next = NULL;\n",
      "    return newNode;\n",
      "}\n",
      "\n",
      "// Function to detect cycle in a linked list using Floyd's algorithm\n",
      "int hasCycle(Node* head) {\n",
      "    if (head == NULL || head->next == NULL) {\n",
      "        return 0; // No cycle if list is empty or has only one node\n",
      "    }\n",
      "\n",
      "    Node* slow = head; // Tortoise: moves one step at a time\n",
      "    Node* fast = head; // Hare: moves two steps at a time\n",
      "\n",
      "    while (fast != NULL && fast->next != NULL) {\n",
      "        slow = slow->next; // Move slow pointer by one step\n",
      "        fast = fast->next->next; // Move fast pointer by two steps\n",
      "\n",
      "        if (slow == fast) {\n",
      "            return 1; // Cycle detected\n",
      "        }\n",
      "    }\n",
      "\n",
      "    return 0; // No cycle found\n",
      "}\n",
      "\n",
      "int main() {\n",
      "    // Create a linked list with a cycle\n",
      "    Node* head = createNode(1);\n",
      "    head->next = createNode(2);\n",
      "    head->next->next = createNode(3);\n",
      "    head->next->next->next = createNode(4);\n",
      "    head->next->next->next->next = head->next; // Create a cycle\n",
      "\n",
      "    // Test the cycle detection\n",
      "    if (hasCycle(head)) {\n",
      "        printf(\"Cycle detected in the linked list.\\n\");\n",
      "    } else {\n",
      "        printf(\"No cycle detected in the linked list.\\n\");\n",
      "    }\n",
      "\n",
      "    return 0;\n",
      "}\n",
      "```\n"
     ]
    }
   ],
   "source": [
    "pipeline = [PROMPT_RUBRIK, PROMPT_TYPE, USER_PROMPT_FINAL]\n",
    "\n",
    "for step in pipeline:\n",
    "    response = co.chat(model=\"command-a-03-2025\", messages=[{\"role\": \"user\", \"content\": step}])\n",
    "    print('begin next\\n')\n",
    "    print(response.message.content[0].text)"
   ]
  },
  {
   "cell_type": "code",
   "execution_count": 55,
   "metadata": {},
   "outputs": [],
   "source": [
    "#prompt = '''explain how to implement Djikstra’s algorithm in C'''\n",
    "prompt = '''explain object-oriented programming'''"
   ]
  },
  {
   "cell_type": "code",
   "execution_count": 56,
   "metadata": {},
   "outputs": [],
   "source": [
    "prompt = prompt + 'Improve this prompt using the Prompt Rubric, with the response being a string of the new prompt only.'"
   ]
  },
  {
   "cell_type": "code",
   "execution_count": 57,
   "metadata": {},
   "outputs": [
    {
     "name": "stdout",
     "output_type": "stream",
     "text": [
      "\"Explain the core principles of object-oriented programming (OOP), including encapsulation, inheritance, polymorphism, and abstraction, and provide examples of how these concepts are applied in real-world programming scenarios.\"\n"
     ]
    }
   ],
   "source": [
    "response = co.chat(model=\"command-a-03-2025\", messages=[{\"role\": \"user\", \"content\": prompt}])\n",
    "print(response.message.content[0].text)"
   ]
  }
 ],
 "metadata": {
  "kernelspec": {
   "display_name": "Python 3",
   "language": "python",
   "name": "python3"
  },
  "language_info": {
   "codemirror_mode": {
    "name": "ipython",
    "version": 3
   },
   "file_extension": ".py",
   "mimetype": "text/x-python",
   "name": "python",
   "nbconvert_exporter": "python",
   "pygments_lexer": "ipython3",
   "version": "3.12.2"
  }
 },
 "nbformat": 4,
 "nbformat_minor": 2
}
