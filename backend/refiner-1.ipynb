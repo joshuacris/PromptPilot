{
 "cells": [
  {
   "cell_type": "code",
   "execution_count": 49,
   "metadata": {},
   "outputs": [],
   "source": [
    "import cohere\n",
    "import os\n",
    "from dotenv import load_dotenv, dotenv_values"
   ]
  },
  {
   "cell_type": "code",
   "execution_count": 50,
   "metadata": {},
   "outputs": [
    {
     "data": {
      "text/plain": [
       "True"
      ]
     },
     "execution_count": 50,
     "metadata": {},
     "output_type": "execute_result"
    }
   ],
   "source": [
    "load_dotenv()"
   ]
  },
  {
   "cell_type": "code",
   "execution_count": 51,
   "metadata": {},
   "outputs": [],
   "source": [
    "CO_API_KEY = os.environ.get(\"CO_API_KEY\")\n",
    "co = cohere.ClientV2(CO_API_KEY)\n",
    "\n",
    "#response = co.chat(model=\"command-a-03-2025\", messages=[{\"role\": \"user\", \"content\": \"tell me about university of toronto\"}])\n",
    "\n",
    "#print(response)"
   ]
  },
  {
   "cell_type": "code",
   "execution_count": 52,
   "metadata": {},
   "outputs": [],
   "source": [
    "prompt_rubric = '''\n",
    "\n",
    "Given a prompt, can you please improve it so that it follows the Prompt Rubric:\n",
    "\n",
    "1. First, break the prompt into sequential steps: Eg. First [do something], then [do something]. Finally, [do something].\n",
    "\n",
    "2. Then, provide necessary context or background information. Eg. Report card. Which report card? For elementary students in Brazil?\n",
    "\n",
    "3. Afterwards, assign a role to the AI model. Eg. Imagine you are a teacher and I am a student. Please explain Newton’s Law.\n",
    "\n",
    "4. After this, specify the tone (Please use constructive tone, related to roles: whose perspective\n",
    "should the response be written from and who is the audience.). If possible, use action words to be more specific.\n",
    "\n",
    "5. If there are no examples, add an example when applicable.\n",
    "\n",
    "6. Explicitly say format of the response expected (bullet points, tables, code, etc).\n",
    "\n",
    "7. Include this at the end of the prompt: “Please do not assume anything, ask me any\n",
    "clarification questions if need be.\n",
    "\n",
    "8. Finally, please do not apply it to this prompt. Memorize the Prompt Rubric for future prompts.\n",
    "'''"
   ]
  },
  {
   "cell_type": "code",
   "execution_count": 53,
   "metadata": {},
   "outputs": [],
   "source": [
    "response = co.chat(model=\"command-a-03-2025\", messages=[{\"role\": \"user\", \"content\": prompt_rubric}])"
   ]
  },
  {
   "cell_type": "code",
   "execution_count": 54,
   "metadata": {},
   "outputs": [
    {
     "name": "stdout",
     "output_type": "stream",
     "text": [
      "Understood! I’ll memorize the **Prompt Rubric** for future prompts and apply it as needed. Here’s a summary of the rubric for reference:\n",
      "\n",
      "1. **Sequential Steps**: Break the task into clear, ordered steps (e.g., First [step], then [step], finally [step]).  \n",
      "2. **Context/Background**: Provide necessary details (e.g., specific subject, audience, or scenario).  \n",
      "3. **Assign a Role**: Define the AI’s role and the user’s role in the interaction.  \n",
      "4. **Specify Tone**: Indicate the tone and perspective (e.g., formal, friendly, expert-to-beginner).  \n",
      "5. **Add Examples**: Include examples if applicable.  \n",
      "6. **Response Format**: Explicitly state the expected format (e.g., bullet points, paragraphs, tables).  \n",
      "7. **Clarification Request**: End with “Please do not assume anything, ask me any clarification questions if need be.”  \n",
      "\n",
      "I’ll apply this rubric to future prompts as required. Let me know if you’d like me to refine or apply it to a specific task!\n"
     ]
    }
   ],
   "source": [
    "print(response.message.content[0].text)"
   ]
  },
  {
   "cell_type": "code",
   "execution_count": 55,
   "metadata": {},
   "outputs": [],
   "source": [
    "#prompt = '''explain how to implement Djikstra’s algorithm in C'''\n",
    "prompt = '''explain object-oriented programming'''"
   ]
  },
  {
   "cell_type": "code",
   "execution_count": 56,
   "metadata": {},
   "outputs": [],
   "source": [
    "prompt = prompt + 'Improve this prompt using the Prompt Rubric, with the response being a string of the new prompt only.'"
   ]
  },
  {
   "cell_type": "code",
   "execution_count": 57,
   "metadata": {},
   "outputs": [
    {
     "name": "stdout",
     "output_type": "stream",
     "text": [
      "\"Explain the core principles of object-oriented programming (OOP), including encapsulation, inheritance, polymorphism, and abstraction, and provide examples of how these concepts are applied in real-world programming scenarios.\"\n"
     ]
    }
   ],
   "source": [
    "response = co.chat(model=\"command-a-03-2025\", messages=[{\"role\": \"user\", \"content\": prompt}])\n",
    "print(response.message.content[0].text)"
   ]
  }
 ],
 "metadata": {
  "kernelspec": {
   "display_name": "Python 3",
   "language": "python",
   "name": "python3"
  },
  "language_info": {
   "codemirror_mode": {
    "name": "ipython",
    "version": 3
   },
   "file_extension": ".py",
   "mimetype": "text/x-python",
   "name": "python",
   "nbconvert_exporter": "python",
   "pygments_lexer": "ipython3",
   "version": "3.12.2"
  }
 },
 "nbformat": 4,
 "nbformat_minor": 2
}
